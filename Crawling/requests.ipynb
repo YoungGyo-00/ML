{
 "cells": [
  {
   "cell_type": "code",
   "execution_count": 4,
   "metadata": {},
   "outputs": [],
   "source": [
    "import requests\n",
    "url = \"https://finance.naver.com/\""
   ]
  },
  {
   "cell_type": "code",
   "execution_count": 5,
   "metadata": {},
   "outputs": [],
   "source": [
    "res = requests.get(url)"
   ]
  },
  {
   "cell_type": "code",
   "execution_count": null,
   "metadata": {},
   "outputs": [],
   "source": [
    "res.text # html 태그"
   ]
  },
  {
   "cell_type": "code",
   "execution_count": 7,
   "metadata": {},
   "outputs": [
    {
     "data": {
      "text/plain": [
       "\" data = {\\n  'id' : '아이디',\\n  'pwd' : '비밀번호'\\n}\\nres = requests.post(url, data = data)\\nres.text \""
      ]
     },
     "execution_count": 7,
     "metadata": {},
     "output_type": "execute_result"
    }
   ],
   "source": [
    "\"\"\" data = {\n",
    "  'id' : '아이디',\n",
    "  'pwd' : '비밀번호'\n",
    "}\n",
    "res = requests.post(url, data = data)\n",
    "res.text \"\"\""
   ]
  },
  {
   "cell_type": "code",
   "execution_count": 10,
   "metadata": {},
   "outputs": [
    {
     "data": {
      "text/plain": [
       "\" headers = {\\n  'user-agent' : '내용'\\n}\\n\\nres = requests.get(url, header=headers) \""
      ]
     },
     "execution_count": 10,
     "metadata": {},
     "output_type": "execute_result"
    }
   ],
   "source": [
    "# HTTP header 이용\n",
    "\"\"\" headers = {\n",
    "  'user-agent' : '내용'\n",
    "}\n",
    "\n",
    "res = requests.get(url, header=headers) \"\"\""
   ]
  },
  {
   "cell_type": "code",
   "execution_count": 12,
   "metadata": {},
   "outputs": [
    {
     "name": "stdout",
     "output_type": "stream",
     "text": [
      "출력\n"
     ]
    }
   ],
   "source": [
    "if res.status_code == 200:\n",
    "  print('출력')\n",
    "else:\n",
    "  print('error')"
   ]
  },
  {
   "cell_type": "code",
   "execution_count": 21,
   "metadata": {},
   "outputs": [],
   "source": [
    "service_key = 'ZPceBZd4Tz%2B%2Fq3THTnYl%2BLKgFkj3vrQ6mL4YDhmWh%2B21BIqAjJnS69H5kcik8NE3%2B7ZGzSffeo%2BSK9OMhM%2B4aQ%3D%3D'"
   ]
  },
  {
   "cell_type": "code",
   "execution_count": 22,
   "metadata": {},
   "outputs": [],
   "source": [
    "endpoint = 'http://api.visitkorea.or.kr/openapi/service/rest/EngService/categoryCode?serviceKey={}&numOfRows=10&pageSize=10&pageNo=1&MobileOS=ETC&MobileApp=AppTest'.format(service_key)"
   ]
  },
  {
   "cell_type": "code",
   "execution_count": 23,
   "metadata": {},
   "outputs": [
    {
     "name": "stdout",
     "output_type": "stream",
     "text": [
      "http://api.visitkorea.or.kr/openapi/service/rest/EngService/categoryCode?serviceKey=ZPceBZd4Tz%2B%2Fq3THTnYl%2BLKgFkj3vrQ6mL4YDhmWh%2B21BIqAjJnS69H5kcik8NE3%2B7ZGzSffeo%2BSK9OMhM%2B4aQ%3D%3D&numOfRows=10&pageSize=10&pageNo=1&MobileOS=ETC&MobileApp=AppTest\n"
     ]
    }
   ],
   "source": [
    "print(endpoint)"
   ]
  },
  {
   "cell_type": "code",
   "execution_count": 24,
   "metadata": {},
   "outputs": [
    {
     "name": "stdout",
     "output_type": "stream",
     "text": [
      "200\n",
      "<?xml version=\"1.0\" encoding=\"UTF-8\" standalone=\"yes\"?><response><header><responseTime>2022-01-15T22:23:11.110+09:00</responseTime><resultCode>30</resultCode><resultMsg>SERVICE KEY IS NOT REGISTERED ERROR.</resultMsg></header></response>\n"
     ]
    }
   ],
   "source": [
    "res = requests.get(endpoint)\n",
    "print(res.status_code)\n",
    "print(res.text) # 현재 api 인증 상태 x, 한시간 정도 후에 사용 가능"
   ]
  },
  {
   "cell_type": "code",
   "execution_count": null,
   "metadata": {},
   "outputs": [],
   "source": []
  }
 ],
 "metadata": {
  "interpreter": {
   "hash": "aa2d47bc11f4184ec0f4ad036b942f7d7cdb077768e25a9953837c39fb45c11e"
  },
  "kernelspec": {
   "display_name": "Python 3.7.2 32-bit",
   "language": "python",
   "name": "python3"
  },
  "language_info": {
   "codemirror_mode": {
    "name": "ipython",
    "version": 3
   },
   "file_extension": ".py",
   "mimetype": "text/x-python",
   "name": "python",
   "nbconvert_exporter": "python",
   "pygments_lexer": "ipython3",
   "version": "3.7.2"
  },
  "orig_nbformat": 4
 },
 "nbformat": 4,
 "nbformat_minor": 2
}
