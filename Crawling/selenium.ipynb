{
 "cells": [
  {
   "cell_type": "markdown",
   "metadata": {},
   "source": [
    "### 학습목표\n",
    "1. 다음 뉴스 댓글 개수 크롤링\n",
    "2. 로그인 하여 크롤링 하기"
   ]
  },
  {
   "cell_type": "code",
   "execution_count": 27,
   "metadata": {},
   "outputs": [],
   "source": [
    "import requests"
   ]
  },
  {
   "cell_type": "markdown",
   "metadata": {},
   "source": [
    "#### HTTP 상태 코드\n",
    " - 1xx (정보): 요청을 받았으며 프로세스를 계속한다\n",
    " - 2xx (성공): 요청을 성공적으로 받았으며 인식했고 수용하였다\n",
    " - 3xx (리다이렉션): 요청 완료를 위해 추가 작업 조치가 필요하다\n",
    " - 4xx (클라이언트 오류): 요청의 문법이 잘못되었거나 요청을 처리할 수 없다\n",
    " - 5xx (서버 오류): 서버가 명백히 유효한 요청에 대해 충족을 실패했다\n",
    "\n",
    "[출처: 위키피디아](https://ko.wikipedia.org/wiki/HTTP_%EC%83%81%ED%83%9C_%EC%BD%94%EB%93%9C)"
   ]
  },
  {
   "cell_type": "markdown",
   "metadata": {},
   "source": [
    "#### 로그인하여 데이터 크롤링하기\n",
    " - 특정한 경우, 로그인을 해서 크롤링을 해야만 하는 경우가 존재\n",
    " - 예) 쇼핑몰에서 주문한 아이템 목록, 마일리지 조회 등\n",
    " - 이 경우, 로그인을 자동화 하고 로그인에 사용한 세션을 유지하여 크롤링을 진행"
   ]
  },
  {
   "cell_type": "markdown",
   "metadata": {},
   "source": [
    "#### 로그인 후 데이터 크롤링 하기\n",
    " 1. endpoint 찾기 (개발자 도구의 network를 활용)\n",
    " 2. id와 password가 전달되는 form data찾기\n",
    " 3. session 객체 생성하여 login 진행\n",
    " 4. 이후 session 객체로 원하는 페이지로 이동하여 크롤링\n",
    " "
   ]
  },
  {
   "cell_type": "code",
   "execution_count": 28,
   "metadata": {},
   "outputs": [],
   "source": [
    "from bs4 import BeautifulSoup"
   ]
  },
  {
   "cell_type": "code",
   "execution_count": 29,
   "metadata": {},
   "outputs": [],
   "source": [
    "# 로그인 endpoint\n",
    "url = 'https://www.sonohotelsresorts.com/frontlogin.LoginAction.dp/dmparse.dm?&menuCd=7700000'\n"
   ]
  },
  {
   "cell_type": "code",
   "execution_count": 30,
   "metadata": {},
   "outputs": [],
   "source": [
    "data = {\n",
    "  'id' : '아이디',\n",
    "  'pwd' : '비밀번호!'\n",
    "}"
   ]
  },
  {
   "cell_type": "code",
   "execution_count": 31,
   "metadata": {},
   "outputs": [
    {
     "name": "stdout",
     "output_type": "stream",
     "text": [
      "<Response [200]>\n"
     ]
    }
   ],
   "source": [
    "s = requests.Session()\n",
    "\n",
    "res = s.post(url, data=data)\n",
    "print(res)"
   ]
  },
  {
   "cell_type": "code",
   "execution_count": 32,
   "metadata": {},
   "outputs": [
    {
     "data": {
      "text/plain": [
       "[<img alt=\"소노호텔앤리조트\" src=\"/img/front/common/layout/logo.gif\"/>,\n",
       " <img alt=\"이전페이지로 돌아가기\" src=\"/img/front/error/btn_prev_page.gif\"/>,\n",
       " <img alt=\"family site\" src=\"/img/front/totalmain/btn_familysite.png\"/>,\n",
       " <img alt=\"family site - 소노호텔앤리조트의 패밀리사이트입니다.\" src=\"/img/front/common/layout/stit_familysite.gif\"/>,\n",
       " <img alt=\"대명소노그룹 홈페이지\" src=\"/img/front/common/layout/img_family.gif\"/>,\n",
       " <img alt=\"사이트 바로가기\" src=\"/img/front/common/layout/btn_fms_go.gif\"/>,\n",
       " <img alt=\"대명소노윤리경영 홈페이지\" src=\"/img/front/common/layout/img_dm_ethics.jpg\"/>,\n",
       " <img alt=\"사이트 바로가기\" src=\"/img/front/common/layout/btn_fms_go.gif\"/>,\n",
       " <img alt=\"소노펠리체 컨트리클럽 홈페이지\" src=\"/img/front/common/layout/img_dgolfClubcc.gif\"/>,\n",
       " <img alt=\"사이트 바로가기\" src=\"/img/front/common/layout/btn_fms_go.gif\"/>,\n",
       " <img alt=\"승마클럽 홈페이지\" src=\"/img/front/common/layout/img_horse.gif\"/>,\n",
       " <img alt=\"사이트 바로가기\" src=\"/img/front/common/layout/btn_fms_go.gif\"/>,\n",
       " <img alt=\"소노펠리체 컨벤션 홈페이지\" src=\"/img/front/common/layout/img_convention.gif\"/>,\n",
       " <img alt=\"사이트 바로가기\" src=\"/img/front/common/layout/btn_fms_go.gif\"/>,\n",
       " <img alt=\"마이스 홈페이지\" src=\"/img/front/common/layout/img_dm_mice.gif\"/>,\n",
       " <img alt=\"사이트 바로가기\" src=\"/img/front/common/layout/btn_fms_go.gif\"/>,\n",
       " <img alt=\"대명복지재단 홈페이지\" src=\"/img/front/common/layout/img_dm_welfare.jpg\"/>,\n",
       " <img alt=\"사이트 바로가기\" src=\"/img/front/common/layout/btn_fms_go.gif\"/>,\n",
       " <img alt=\"대명건설 홈페이지\" src=\"/img/front/common/layout/img_dm_const.jpg\"/>,\n",
       " <img alt=\"사이트 바로가기\" src=\"/img/front/common/layout/btn_fms_go.gif\"/>,\n",
       " <img alt=\"대명라이프웨이 홈페이지\" src=\"/img/front/common/layout/img_dm_life.jpg\"/>,\n",
       " <img alt=\"사이트 바로가기\" src=\"/img/front/common/layout/btn_fms_go.gif\"/>,\n",
       " <img alt=\"대명소노시즌 홈페이지\" src=\"/img/front/common/layout/sonoseason.jpg\"/>,\n",
       " <img alt=\"사이트 바로가기\" src=\"/img/front/common/layout/btn_fms_go.gif\"/>,\n",
       " <img alt=\"대명소노시즌 홈페이지\" src=\"/img/front/common/layout/img_dm_persale.gif\"/>,\n",
       " <img alt=\"사이트 바로가기\" src=\"/img/front/common/layout/btn_fms_go.gif\"/>,\n",
       " <img alt=\"춘천삼악산케이블카 홈페이지\" src=\"/img/front/common/layout/img_dm_smaaksan.gif\"/>,\n",
       " <img alt=\"사이트 바로가기\" src=\"/img/front/common/layout/btn_fms_go.gif\"/>,\n",
       " <img alt=\"close\" src=\"/img/front/common/layout/btn_family_close.gif\"/>,\n",
       " <img alt=\"페이스북\" src=\"/img/front/common/layout/btn_side_facebook_new.png\"/>,\n",
       " <img alt=\"인스타그램\" src=\"/img/front/common/layout/btn_side_instagram.png\"/>,\n",
       " <img alt=\"유투브\" src=\"/img/front/common/layout/btn_side_youtube.png\"/>,\n",
       " <img alt=\"카카오플러스\" src=\"/img/front/common/layout/btn_side_kakaoplus.png\"/>]"
      ]
     },
     "execution_count": 32,
     "metadata": {},
     "output_type": "execute_result"
    }
   ],
   "source": [
    "my_page = 'https://www.sonohotelsresorts.com/myDm.index.memberIndex.dp/dmparse.dm?menuCd=6570000'\n",
    "res = s.get(my_page)\n",
    "\n",
    "soup = BeautifulSoup(res.text)\n",
    "soup.select('img')"
   ]
  },
  {
   "cell_type": "code",
   "execution_count": 33,
   "metadata": {},
   "outputs": [],
   "source": [
    "from selenium import webdriver\n",
    "from selenium.webdriver.common.keys import Keys\n",
    "from selenium.webdriver.support.ui import WebDriverWait\n",
    "from selenium.webdriver.support import expected_conditions as EC\n",
    "from selenium.webdriver.common.by import By\n",
    "\n",
    "import time"
   ]
  },
  {
   "cell_type": "markdown",
   "metadata": {},
   "source": [
    "#### selenium\n",
    " - 웹페이지 테스트 자동화용 모듈\n",
    " - 개발/테스트용 드라이버(웹브라우저)를 사용하여 실제 사용자가 사용하는 것처럼 동작\n",
    " - [크롬 드라이버 다운로드](https://chromedriver.chromium.org/downloads)"
   ]
  },
  {
   "cell_type": "code",
   "execution_count": 34,
   "metadata": {},
   "outputs": [
    {
     "name": "stderr",
     "output_type": "stream",
     "text": [
      "C:\\Users\\lee45\\AppData\\Local\\Programs\\Python\\Python37-32\\lib\\site-packages\\ipykernel_launcher.py:1: DeprecationWarning: executable_path has been deprecated, please pass in a Service object\n",
      "  \"\"\"Entry point for launching an IPython kernel.\n"
     ]
    },
    {
     "data": {
      "text/plain": [
       "'42'"
      ]
     },
     "execution_count": 34,
     "metadata": {},
     "output_type": "execute_result"
    }
   ],
   "source": [
    "driver = webdriver.Chrome(r'D:\\Download\\chromedriver.exe')\n",
    "driver.get('https://github.com/')\n",
    "\n",
    "url = 'https://news.v.daum.net/v/20190728165812603'\n",
    "driver.get(url)\n",
    "\n",
    "src = driver.page_source\n",
    "soup = BeautifulSoup(src)\n",
    "comment_area = soup.select_one('span.alex-count-area')\n",
    "\n",
    "driver.close()\n",
    "\n",
    "comment_area.get_text()"
   ]
  },
  {
   "cell_type": "markdown",
   "metadata": {},
   "source": [
    "#### selenium을 활용하여 특정 element의 로딩 대기\n",
    " - WebDriverWait 객체를 이용하여 해당 element가 로딩 되는 것을 대기\n",
    " - 실제로 해당 기능을 활용하여 거의 모든 사이트의 크롤링이 가능\n",
    " - WebDriverWait(driver, 시간(초)).until(EC.presence_of_element_located((By.CSS_SELECTOR, 'CSS_RULE')))\n",
    " "
   ]
  },
  {
   "cell_type": "code",
   "execution_count": 35,
   "metadata": {},
   "outputs": [
    {
     "name": "stderr",
     "output_type": "stream",
     "text": [
      "C:\\Users\\lee45\\AppData\\Local\\Programs\\Python\\Python37-32\\lib\\site-packages\\ipykernel_launcher.py:1: DeprecationWarning: executable_path has been deprecated, please pass in a Service object\n",
      "  \"\"\"Entry point for launching an IPython kernel.\n"
     ]
    },
    {
     "name": "stdout",
     "output_type": "stream",
     "text": [
      "21\n"
     ]
    }
   ],
   "source": [
    "driver = webdriver.Chrome(r'D:\\Download\\chromedriver.exe')\n",
    "\n",
    "url = 'https://news.naver.com/main/read.nhn?mode=LSD&mid=shm&sid1=105&oid=081&aid=0003018031'\n",
    "driver.get(url)\n",
    "\n",
    "WebDriverWait(driver, 10).until(EC.presence_of_element_located((By.CSS_SELECTOR, '.u_cbox_count')))\n",
    "\n",
    "src = driver.page_source\n",
    "\n",
    "soup = BeautifulSoup(src)\n",
    "comment_area = soup.select_one(\".u_cbox_count\")\n",
    "\n",
    "driver.close()\n",
    "\n",
    "print(comment_area.get_text())"
   ]
  },
  {
   "cell_type": "code",
   "execution_count": 44,
   "metadata": {},
   "outputs": [],
   "source": [
    "def get_daum_news_title(news_id):\n",
    "  url = 'https://news.v.daum.net/v/{}'.format(news_id)\n",
    "  res = requests.get(url)\n",
    "  soup = BeautifulSoup(res.text)\n",
    "\n",
    "  title_tag = soup.select_one('h3.tit_view')\n",
    "  if title_tag:\n",
    "    return title_tag.get_text()\n",
    "  return \"\""
   ]
  },
  {
   "cell_type": "code",
   "execution_count": 48,
   "metadata": {},
   "outputs": [
    {
     "data": {
      "text/plain": [
       "'일론머스크 \"테슬라에서 넷플릭스·유튜브 즐길 날 온다\"'"
      ]
     },
     "metadata": {},
     "output_type": "display_data"
    },
    {
     "data": {
      "text/plain": [
       "'5G 2∼3위 경쟁 치열..LGU+, 6월 가입자 순증 KT 앞서'"
      ]
     },
     "metadata": {},
     "output_type": "display_data"
    }
   ],
   "source": [
    "display(get_daum_news_title('20190728165812603'))\n",
    "display(get_daum_news_title('20190801114158041'))"
   ]
  },
  {
   "cell_type": "markdown",
   "metadata": {},
   "source": [
    "#### 뉴스 본문 크롤링"
   ]
  },
  {
   "cell_type": "code",
   "execution_count": 52,
   "metadata": {},
   "outputs": [],
   "source": [
    "def get_daum_news_content(news_id):\n",
    "  url = 'https://news.v.daum.net/v/{}'.format(news_id)\n",
    "  res = requests.get(url)\n",
    "\n",
    "  soup = BeautifulSoup(res.text)\n",
    "\n",
    "  content = ''\n",
    "  for p in soup.select('div#harmonyContainer p'):\n",
    "    content += p.get_text()\n",
    "  return content"
   ]
  },
  {
   "cell_type": "code",
   "execution_count": 55,
   "metadata": {},
   "outputs": [
    {
     "data": {
      "text/plain": [
       "'[아시아경제 이민우 기자] 일론 머스크 테슬라 최고경영자(CEO)가 자사 전기 자동차 모델에 넷플릭스와 유튜브 등 온라인동영상서비스(OTT)를 탑재할 것이라고 예고했다. 단순히 자율 주행 전기차가 단순히 주행을 위한 정보를 알려주는 것을 넘어 각종 영상 콘텐츠를 즐기는 공간으로도 확장하겠다는 전략으로 풀이된다.27일(현지시간) 더버지 등 주요 외신들에 따르면 머스크 CEO는 자신의 트위터를 통해 이 같은 계획을 밝혔다. 그는 \"자동차가 정차했을 때 넷플릭스와 유튜브를 감상할 수 있는 기능이 조만간 추가될 것\"이라며 \"편안한 좌석과 서라운드 사운드 오디오를 통해 영화관과 같은 느낌을 받을 수 있을 것\"이라고 강조했다.테슬라가 이처럼 콘텐츠 방면으로 확장하려 든 것은 이번이 처음이 아니다. 지난달 세계 최대 게임쇼 E3에서는 이미 운전자가 \\'폴아웃 쉘터\\'라는 게임을 할 수 있을 것이라고 발표한 바 있다. 이후에도 최근 게임업체 아타리사(社)의 자동차 경주 게임 ‘폴포지션’, 슈팅게임 ‘템페스트’, ‘미사일커맨드’ 등 고전 게임을 제공하기도 했다. 운전대로 게임을 조작하는 방식으로, 차가 주차돼 있을 경우에만 즐길 수 있다.이번 영상 콘텐츠는 주행 중에도 감상할 수 있도록 하는 방안을 고려하고 있다. 테슬라 측은 규제당국이 자율주행에 대해 완전히 승인하면 차량이 움직일 때에도 승객이 동영상을 즐길 수 있을 것이라고 설명했다.하지만 아직까지 자율주행차의 안전에 대한 우려는 완전히 걷혀지지 않은 상황이다. 지난 2017년 차량공유 서비스 우버의 자율주행 시범차량이 보행자와 충돌한 사고가 발생한 바 있다. 게다가 당시 시험 운전자는 디즈니의 동영상 스트리밍 서비스인 \\'훌루\\'를 이용하고 있던 것으로 밝혀졌다.이민우 기자 letzwin@asiae.co.kr<ⓒ경제를 보는 눈, 세계를 보는 창 아시아경제 무단전재 배포금지>'"
      ]
     },
     "metadata": {},
     "output_type": "display_data"
    },
    {
     "data": {
      "text/plain": [
       "'(서울=연합뉴스) 채새롬 기자 = LG유플러스가 6월 한 달간 KT보다 5G 가입자 순증 수가 더 많았던 것으로 집계됐다.1일 과학기술정보통신부와 통신업계에 따르면 6월 말 기준 국내 5G 가입자는 133만 6천865명으로 한 달간 55만2천650명이 늘어났다.통신사별로는 SK텔레콤이 53만346명, KT가 41만9천316명, LG유플러스가 38만7천203명이었다. SK텔레콤의 점유율은 5월 40.8%에서 6월 39.7%, KT는 32.1%에서 31.4%로 다소 줄어든 반면 LG유플러스는 점유율이 27.1%에서 29.0%로 늘었다. 5대 3대 2 구도에서 4대 3대 3 구도가 고착화하는 양상이다.특히 LG유플러스는 월별 순증 가입자 기준 KT를 처음으로 앞질렀다. KT가 6월 16만7천775명 증가한 데 비해 LG유플러스는 17만4천505명을 늘렸다. SK텔레콤은 21만370명을 모집했다.이에 따라 5월 5%포인트였던 LG유플러스와 KT의 점유율 차는 6월 2.4%포인트로 좁혀졌다.6월 공격적인 마케팅을 펼친 LG유플러스가 마케팅 재원이 바닥나자 경쟁사 발목 잡기에 나섰다는 지적도 제기된다. LG유플러스는 지난달 24일 방송통신위원회에 SK텔레콤과 KT를 불법 보조금 살포 혐의로 신고했다.업계 관계자는 \"KT와 LG유플러스의 가입자 순증 격차가 좁혀짐에 따라 양사가 3위로 떨어지지 않기 위해 갤럭시노트10이 나오는 8월 치열한 마케팅 싸움을 전개할 것으로 보인다\"고 말했다.다음 달 삼성전자 갤럭시노트10 출시를 앞두고 이통사들은 일찌감치 프로모션을 발표하며 5G 가입자 유치 전에 나서고 있다. 7월말 현재 5G 가입자는 180만명 수준으로 파악된다. SK텔레콤 점유율이 41%, KT 31%, LG유플러스 28% 수준으로 알려졌다. 업계에서는 갤럭시노트10이 출시되는 8월 5G 가입자가 200만명을 넘기고 9월부터 갤럭시A90, 갤럭시 폴드, LG전자 5G 스마트폰 등이 출시되면 연말 5G 가입자가 400만명을 넘기리라는 예상이 나온다. SK텔레콤은 1일 5G 가입자 80만명을 넘길 것으로 관측된다. 국내 5G 가입자가 5∼6월 약 100만명 순증하는 동안 LTE 가입자는 약 32만명이 감소해 5G 가입자 이동이 가속화되고 있다. 6월 5G 데이터트래픽은 약 24GB(23,988MB)로 전월 대비 약 28% 늘었다.srchae@yna.co.kr저작권자(c)연합뉴스. 무단전재-재배포금지'"
      ]
     },
     "metadata": {},
     "output_type": "display_data"
    }
   ],
   "source": [
    "display(get_daum_news_content('20190728165812603'))\n",
    "display(get_daum_news_content('20190801114158041'))"
   ]
  },
  {
   "cell_type": "code",
   "execution_count": 89,
   "metadata": {},
   "outputs": [
    {
     "data": {
      "text/plain": [
       "[{'id': 393676353,\n",
       "  'userId': -534043351,\n",
       "  'postId': 133493400,\n",
       "  'forumId': -99,\n",
       "  'parentId': 0,\n",
       "  'type': 'COMMENT',\n",
       "  'status': 'S',\n",
       "  'flags': 256,\n",
       "  'rating': 0,\n",
       "  'content': '그니까 왜 자동차에는 유심을 안 넣어 주냐고요. 인터넷 되게 말이에요.',\n",
       "  'createdAt': '2019-07-28T18:04:58+0900',\n",
       "  'updatedAt': '2019-07-28T18:04:58+0900',\n",
       "  'childCount': 0,\n",
       "  'likeCount': 0,\n",
       "  'dislikeCount': 0,\n",
       "  'recommendCount': 0,\n",
       "  'screenedByKeeper': False,\n",
       "  'user': {'id': -534043351,\n",
       "   'status': 'S',\n",
       "   'type': 'USER',\n",
       "   'flags': 0,\n",
       "   'icon': 'https://t1.daumcdn.net/profile/BqUq4T4xttg0',\n",
       "   'url': '',\n",
       "   'username': 'DAUM:A8N4r',\n",
       "   'roles': 'ROLE_USER,ROLE_DAUM,ROLE_IDENTIFIED',\n",
       "   'providerId': 'DAUM',\n",
       "   'providerUserId': 'A8N4r',\n",
       "   'displayName': '민본',\n",
       "   'description': '',\n",
       "   'commentCount': 4508}},\n",
       " {'id': 393726385,\n",
       "  'userId': -7821475,\n",
       "  'postId': 133493400,\n",
       "  'forumId': -99,\n",
       "  'parentId': 0,\n",
       "  'type': 'COMMENT',\n",
       "  'status': 'S',\n",
       "  'flags': 0,\n",
       "  'rating': 0,\n",
       "  'content': '어이 화성인 아이언맨...\\n\\n그대 남은 인생이 기껏 3~40년일세.\\n\\n1초라도 아껴서 열심히 우주탐험하게나... 100년 짧으니..',\n",
       "  'createdAt': '2019-07-28T20:45:45+0900',\n",
       "  'updatedAt': '2019-07-28T20:45:45+0900',\n",
       "  'childCount': 0,\n",
       "  'likeCount': 2,\n",
       "  'dislikeCount': 1,\n",
       "  'recommendCount': 1,\n",
       "  'screenedByKeeper': False,\n",
       "  'user': {'id': -7821475,\n",
       "   'status': 'S',\n",
       "   'type': 'USER',\n",
       "   'flags': 0,\n",
       "   'icon': 'https://t1.daumcdn.net/profile/aUhqIVZ3pNs0',\n",
       "   'url': '',\n",
       "   'username': 'DAUM:wOIP',\n",
       "   'roles': 'ROLE_USER,ROLE_DAUM,ROLE_IDENTIFIED',\n",
       "   'providerId': 'DAUM',\n",
       "   'providerUserId': 'wOIP',\n",
       "   'displayName': '청파',\n",
       "   'description': '',\n",
       "   'commentCount': 7819}},\n",
       " {'id': 393675924,\n",
       "  'userId': 26707516,\n",
       "  'postId': 133493400,\n",
       "  'forumId': -99,\n",
       "  'parentId': 0,\n",
       "  'type': 'COMMENT',\n",
       "  'status': 'S',\n",
       "  'flags': 0,\n",
       "  'rating': 0,\n",
       "  'content': '앞 유리는 스크린으로 딱이긴 하지.',\n",
       "  'createdAt': '2019-07-28T18:03:39+0900',\n",
       "  'updatedAt': '2019-07-28T18:03:39+0900',\n",
       "  'childCount': 0,\n",
       "  'likeCount': 0,\n",
       "  'dislikeCount': 0,\n",
       "  'recommendCount': 0,\n",
       "  'screenedByKeeper': False,\n",
       "  'user': {'id': 26707516,\n",
       "   'status': 'S',\n",
       "   'type': 'USER',\n",
       "   'flags': 0,\n",
       "   'icon': 'https://t1.daumcdn.net/profile/aMaJp8-QS2E0',\n",
       "   'url': '',\n",
       "   'username': 'DAUM:DGdpM',\n",
       "   'roles': 'ROLE_USER,ROLE_DAUM,ROLE_IDENTIFIED',\n",
       "   'providerId': 'DAUM',\n",
       "   'providerUserId': 'DGdpM',\n",
       "   'displayName': 'Lionili',\n",
       "   'description': '',\n",
       "   'commentCount': 9617}},\n",
       " {'id': 393685597,\n",
       "  'userId': -20626828,\n",
       "  'postId': 133493400,\n",
       "  'forumId': -99,\n",
       "  'parentId': 0,\n",
       "  'type': 'COMMENT',\n",
       "  'status': 'S',\n",
       "  'flags': 0,\n",
       "  'rating': 0,\n",
       "  'content': '이제 게임기도 컴퓨터도 자동차도 따로따로 안사도 되는 거야~~~',\n",
       "  'createdAt': '2019-07-28T18:35:06+0900',\n",
       "  'updatedAt': '2019-07-28T18:35:06+0900',\n",
       "  'childCount': 0,\n",
       "  'likeCount': 0,\n",
       "  'dislikeCount': 0,\n",
       "  'recommendCount': 0,\n",
       "  'screenedByKeeper': False,\n",
       "  'user': {'id': -20626828,\n",
       "   'status': 'S',\n",
       "   'type': 'USER',\n",
       "   'flags': 0,\n",
       "   'icon': 'https://t1.daumcdn.net/profile/sleQn1hRf4M0',\n",
       "   'url': '',\n",
       "   'username': 'DAUM:1oxYM',\n",
       "   'roles': 'ROLE_USER,ROLE_DAUM,ROLE_IDENTIFIED',\n",
       "   'providerId': 'DAUM',\n",
       "   'providerUserId': '1oxYM',\n",
       "   'displayName': '지속가능한세상의가속화',\n",
       "   'description': '',\n",
       "   'commentCount': 2441}},\n",
       " {'id': 393690060,\n",
       "  'userId': -118726600,\n",
       "  'postId': 133493400,\n",
       "  'forumId': -99,\n",
       "  'parentId': 0,\n",
       "  'type': 'COMMENT',\n",
       "  'status': 'S',\n",
       "  'flags': 256,\n",
       "  'rating': 0,\n",
       "  'content': '시대는 이재 바야흐로  영적진화  와  과학 진화가 공존 하는 새상이   곳 도래 하갯군',\n",
       "  'createdAt': '2019-07-28T18:48:57+0900',\n",
       "  'updatedAt': '2019-07-28T18:48:57+0900',\n",
       "  'childCount': 0,\n",
       "  'likeCount': 0,\n",
       "  'dislikeCount': 0,\n",
       "  'recommendCount': 0,\n",
       "  'screenedByKeeper': False,\n",
       "  'user': {'id': -118726600,\n",
       "   'status': 'S',\n",
       "   'type': 'USER',\n",
       "   'flags': 0,\n",
       "   'icon': 'https://t1.daumcdn.net/profile/wIW3Q.DCC_g0',\n",
       "   'url': '',\n",
       "   'username': 'DAUM:82ada',\n",
       "   'roles': 'ROLE_USER,ROLE_DAUM,ROLE_IDENTIFIED',\n",
       "   'providerId': 'DAUM',\n",
       "   'providerUserId': '82ada',\n",
       "   'displayName': '생명의빚으로',\n",
       "   'description': '',\n",
       "   'commentCount': 7809}},\n",
       " {'id': 393690341,\n",
       "  'userId': 27175041,\n",
       "  'postId': 133493400,\n",
       "  'forumId': -99,\n",
       "  'parentId': 0,\n",
       "  'type': 'COMMENT',\n",
       "  'status': 'S',\n",
       "  'flags': 0,\n",
       "  'rating': 0,\n",
       "  'content': '자동차 그 자체로 게임을 즐긴다니, 날이 갈수록 기술이 발전해가고 있는 것 같네요. 저런 것도 언젠가 상용화되면 꽤 재미있지 않을지 기대가 되네요. 한국에서도 빨리 볼 수 있길 기대합니다.',\n",
       "  'createdAt': '2019-07-28T18:49:43+0900',\n",
       "  'updatedAt': '2019-07-28T18:49:43+0900',\n",
       "  'childCount': 0,\n",
       "  'likeCount': 2,\n",
       "  'dislikeCount': 0,\n",
       "  'recommendCount': 2,\n",
       "  'screenedByKeeper': False,\n",
       "  'user': {'id': 27175041,\n",
       "   'status': 'S',\n",
       "   'type': 'USER',\n",
       "   'flags': 0,\n",
       "   'icon': 'https://t1.daumcdn.net/profile/dVbKTpbkKRw0',\n",
       "   'url': '',\n",
       "   'username': 'DAUM:9TEc6',\n",
       "   'roles': 'ROLE_USER,ROLE_DAUM,ROLE_IDENTIFIED',\n",
       "   'providerId': 'DAUM',\n",
       "   'providerUserId': '9TEc6',\n",
       "   'displayName': '키우기신',\n",
       "   'description': '',\n",
       "   'commentCount': 0}},\n",
       " {'id': 393684600,\n",
       "  'userId': -20626828,\n",
       "  'postId': 133493400,\n",
       "  'forumId': -99,\n",
       "  'parentId': 393657537,\n",
       "  'type': 'COMMENT',\n",
       "  'status': 'S',\n",
       "  'flags': 0,\n",
       "  'rating': 0,\n",
       "  'content': '사기꾼은 \\n독일의 A사 \\n한국의 H사\\n아닌가? \\n쏠라티 핸들 소리나는데 원래 나는거라는데 이거야말로 사기꾼이 할소리 아닌가?',\n",
       "  'createdAt': '2019-07-28T18:31:55+0900',\n",
       "  'updatedAt': '2019-07-28T18:31:55+0900',\n",
       "  'childCount': 0,\n",
       "  'likeCount': 0,\n",
       "  'dislikeCount': 0,\n",
       "  'recommendCount': 0,\n",
       "  'screenedByKeeper': False,\n",
       "  'user': {'id': -20626828,\n",
       "   'status': 'S',\n",
       "   'type': 'USER',\n",
       "   'flags': 0,\n",
       "   'icon': 'https://t1.daumcdn.net/profile/sleQn1hRf4M0',\n",
       "   'url': '',\n",
       "   'username': 'DAUM:1oxYM',\n",
       "   'roles': 'ROLE_USER,ROLE_DAUM,ROLE_IDENTIFIED',\n",
       "   'providerId': 'DAUM',\n",
       "   'providerUserId': '1oxYM',\n",
       "   'displayName': '지속가능한세상의가속화',\n",
       "   'description': '',\n",
       "   'commentCount': 2441},\n",
       "  'parent': {'id': 393657537,\n",
       "   'userId': -81275994,\n",
       "   'postId': 133493400,\n",
       "   'forumId': -99,\n",
       "   'parentId': 0,\n",
       "   'type': 'COMMENT',\n",
       "   'status': 'S',\n",
       "   'flags': 0,\n",
       "   'rating': 0,\n",
       "   'content': '사기꾼',\n",
       "   'createdAt': '2019-07-28T17:06:25+0900',\n",
       "   'updatedAt': '2019-07-28T17:06:25+0900',\n",
       "   'childCount': 1,\n",
       "   'likeCount': 3,\n",
       "   'dislikeCount': 4,\n",
       "   'recommendCount': -1,\n",
       "   'screenedByKeeper': False,\n",
       "   'post': {'id': 133493400,\n",
       "    'forumId': -99,\n",
       "    'userId': 0,\n",
       "    'postKey': '20190728165812603',\n",
       "    'type': 'AUTO',\n",
       "    'status': 'S',\n",
       "    'flags': 0,\n",
       "    'createdAt': '2019-07-28T16:59:33+0900',\n",
       "    'updatedAt': '2022-01-16T22:37:29+0900',\n",
       "    'title': '일론머스크 \"테슬라에서 넷플릭스·유튜브 즐길 날 온다\"',\n",
       "    'url': 'https://news.v.daum.net/v/NHT9NtZWBe',\n",
       "    'icon': 'https://img1.daumcdn.net/thumb/S1200x630/?fname=https://t1.daumcdn.net/news/201907/28/akn/20190728165813230vjsq.jpg',\n",
       "    'commentCount': 42,\n",
       "    'childCount': 9,\n",
       "    'officialCount': 0},\n",
       "   'user': {'id': -81275994,\n",
       "    'status': 'S',\n",
       "    'type': 'USER',\n",
       "    'flags': 0,\n",
       "    'icon': 'https://t1.daumcdn.net/profile/Zx3xHEi1X.50',\n",
       "    'url': '',\n",
       "    'username': 'DAUM:5v1B8',\n",
       "    'roles': 'ROLE_USER,ROLE_DAUM,ROLE_IDENTIFIED',\n",
       "    'providerId': 'DAUM',\n",
       "    'providerUserId': '5v1B8',\n",
       "    'displayName': '윈터스',\n",
       "    'description': '',\n",
       "    'commentCount': 5036}}},\n",
       " {'id': 393751169,\n",
       "  'userId': 25442700,\n",
       "  'postId': 133493400,\n",
       "  'forumId': -99,\n",
       "  'parentId': 0,\n",
       "  'type': 'COMMENT',\n",
       "  'status': 'S',\n",
       "  'flags': 4352,\n",
       "  'rating': 0,\n",
       "  'content': '운전할 땐 운전만 합시다',\n",
       "  'createdAt': '2019-07-28T22:04:34+0900',\n",
       "  'updatedAt': '2019-07-28T22:04:34+0900',\n",
       "  'childCount': 0,\n",
       "  'likeCount': 2,\n",
       "  'dislikeCount': 0,\n",
       "  'recommendCount': 2,\n",
       "  'screenedByKeeper': False,\n",
       "  'user': {'id': 25442700,\n",
       "   'status': 'S',\n",
       "   'type': 'USER',\n",
       "   'flags': 0,\n",
       "   'icon': 'https://k.kakaocdn.net/dn/bSbpUa/btqABSHH5ii/Ls4PGokucOpMdgsM1TFhmk/img_110x110.jpg',\n",
       "   'username': 'KAKAO:965829707',\n",
       "   'roles': 'ROLE_USER,ROLE_KAKAO,ROLE_IDENTIFIED',\n",
       "   'providerId': 'KAKAO',\n",
       "   'providerUserId': '4550449',\n",
       "   'displayName': '김동욱',\n",
       "   'description': '',\n",
       "   'commentCount': 1}},\n",
       " {'id': 393696076,\n",
       "  'userId': 21231889,\n",
       "  'postId': 133493400,\n",
       "  'forumId': -99,\n",
       "  'parentId': 0,\n",
       "  'type': 'COMMENT',\n",
       "  'status': 'S',\n",
       "  'flags': 4352,\n",
       "  'rating': 0,\n",
       "  'content': '허허허 이제 인간질병을 정복할날도 머지않았도다',\n",
       "  'createdAt': '2019-07-28T19:07:18+0900',\n",
       "  'updatedAt': '2019-07-28T19:07:18+0900',\n",
       "  'childCount': 0,\n",
       "  'likeCount': 0,\n",
       "  'dislikeCount': 0,\n",
       "  'recommendCount': 0,\n",
       "  'screenedByKeeper': False,\n",
       "  'user': {'id': 21231889,\n",
       "   'status': 'S',\n",
       "   'type': 'USER',\n",
       "   'flags': 0,\n",
       "   'icon': 'https://k.kakaocdn.net/dn/JxJj7/btrozwIdBZf/iLHZkiElRpx7SMLFiDbPw0/img_110x110.jpg',\n",
       "   'username': 'KAKAO:684323676',\n",
       "   'roles': 'ROLE_USER,ROLE_KAKAO,ROLE_IDENTIFIED',\n",
       "   'providerId': 'KAKAO',\n",
       "   'providerUserId': '13150057',\n",
       "   'displayName': '썽철',\n",
       "   'description': '',\n",
       "   'commentCount': 929}},\n",
       " {'id': 393796484,\n",
       "  'userId': 26901202,\n",
       "  'postId': 133493400,\n",
       "  'forumId': -99,\n",
       "  'parentId': 0,\n",
       "  'type': 'COMMENT',\n",
       "  'status': 'S',\n",
       "  'flags': 256,\n",
       "  'rating': 0,\n",
       "  'content': '자율 주행차의 안전 승인이 미정부로 부터\\n받으면 자동차 스스로 운행하니 탑승객은\\n운전할 필요 없으니 그 시간에 영화나 유튜브를\\n시청해도 될것이니 테슬라 기업가는 합당한\\n말 이다. 옛날처럼 사람이 직접 운전해야 한다는\\n고정관념을 버릴때가 서서히 도래하고 있고\\n한국 자동차 기업도 그기에 맞추지 않으면\\n망하게 될것이다.왜냐 외국 기업은 스스로 운전\\n하는 차를 출시하고 소비자들도 그 차를 선호할텐데 기존의 차는 서서히 퇴물로 사라지기에\\n그런것이다.',\n",
       "  'createdAt': '2019-07-29T02:35:36+0900',\n",
       "  'updatedAt': '2019-07-29T02:35:36+0900',\n",
       "  'childCount': 0,\n",
       "  'likeCount': 1,\n",
       "  'dislikeCount': 0,\n",
       "  'recommendCount': 1,\n",
       "  'screenedByKeeper': False,\n",
       "  'user': {'id': 26901202,\n",
       "   'status': 'S',\n",
       "   'type': 'USER',\n",
       "   'flags': 0,\n",
       "   'icon': 'https://t1.daumcdn.net/profile/XR-U2S7U-To0',\n",
       "   'url': '',\n",
       "   'username': 'DAUM:DIjRw',\n",
       "   'roles': 'ROLE_USER,ROLE_DAUM,ROLE_IDENTIFIED',\n",
       "   'providerId': 'DAUM',\n",
       "   'providerUserId': 'DIjRw',\n",
       "   'displayName': 'BS J',\n",
       "   'description': '',\n",
       "   'commentCount': 1376}}]"
      ]
     },
     "execution_count": 89,
     "metadata": {},
     "output_type": "execute_result"
    }
   ],
   "source": [
    "url = 'https://comment.daum.net/apis/v1/posts/{}/comments?parentId=0&offset=0&limit=10&sort=POPULAR&isInitial=false&hasNext=true&randomSeed=1642342702'.format('133493400')\n",
    "res = requests.get(url)\n",
    "res.json()"
   ]
  },
  {
   "cell_type": "code",
   "execution_count": 87,
   "metadata": {},
   "outputs": [],
   "source": [
    "def get_daum_news_comments(news_id):\n",
    "  url_template = 'https://comment.daum.net/apis/v1/posts/{}/comments?parentId=0&offset={}&limit=10&sort=POPULAR&isInitial=false&hasNext=true&randomSeed=1642342702'\n",
    "  offset = 0\n",
    "  comments = []\n",
    "  url = 'https://comment.daum.net/apis/v1/posts/133493400/comments?parentId=0&offset=13&limit=10&sort=POPULAR&isInitial=false&hasNext=true&randomSeed=1642342702'\n",
    "  res = requests.get(url)\n",
    "  print(res.json())\n",
    "  while True:\n",
    "    url = url_template.format(news_id, offset)\n",
    "    res = requests.get(url)\n",
    "    data = res.json()\n",
    "    \n",
    "    if not data:\n",
    "      break\n",
    "    comments.extend(data) # append x\n",
    "    offset += 10\n",
    "  \n",
    "  return comments\n",
    "\n"
   ]
  },
  {
   "cell_type": "code",
   "execution_count": 90,
   "metadata": {},
   "outputs": [
    {
     "name": "stdout",
     "output_type": "stream",
     "text": [
      "[{'id': 393713011, 'userId': -9657523, 'postId': 133493400, 'forumId': -99, 'parentId': 0, 'type': 'COMMENT', 'status': 'S', 'flags': 0, 'rating': 0, 'content': '그냥 따로 즐기는게 더 낫다.ㅎㅎ', 'createdAt': '2019-07-28T20:00:28+0900', 'updatedAt': '2019-07-28T20:00:28+0900', 'childCount': 0, 'likeCount': 1, 'dislikeCount': 0, 'recommendCount': 1, 'screenedByKeeper': False, 'user': {'id': -9657523, 'status': 'S', 'type': 'USER', 'flags': 0, 'icon': 'https://t1.daumcdn.net/profile/olFpMzWuKwg0', 'url': '', 'username': 'DAUM:Ewmv', 'roles': 'ROLE_USER,ROLE_DAUM,ROLE_IDENTIFIED', 'providerId': 'DAUM', 'providerUserId': 'Ewmv', 'displayName': 'hsgp', 'description': '', 'commentCount': 15127}}, {'id': 394002136, 'userId': 3015947, 'postId': 133493400, 'forumId': -99, 'parentId': 0, 'type': 'COMMENT', 'status': 'S', 'flags': 0, 'rating': 0, 'content': '실제 아이언맨이라고 불리는 얼론 머스크 잘 알고 있습니다. 항상 발전하는 모습 보고있고 언젠가 우리도 그의 기술을 사용하며 편의를 즐기는 날이 올것 갔습니다. 우주에서도 많은 계획이 있다고 들었습니다. 화이팅', 'createdAt': '2019-07-29T16:06:10+0900', 'updatedAt': '2019-07-29T16:06:10+0900', 'childCount': 0, 'likeCount': 3, 'dislikeCount': 0, 'recommendCount': 3, 'screenedByKeeper': False, 'user': {'id': 3015947, 'status': 'S', 'type': 'USER', 'flags': 0, 'icon': 'https://t1.daumcdn.net/profile/klq2XglmGLU0', 'url': '', 'username': 'DAUM:9wdBs', 'roles': 'ROLE_USER,ROLE_DAUM,ROLE_IDENTIFIED', 'providerId': 'DAUM', 'providerUserId': '9wdBs', 'displayName': '진성표', 'description': '', 'commentCount': 62}}]\n"
     ]
    },
    {
     "data": {
      "text/plain": [
       "15"
      ]
     },
     "execution_count": 90,
     "metadata": {},
     "output_type": "execute_result"
    }
   ],
   "source": [
    "len(get_daum_news_comments('133493400'))"
   ]
  },
  {
   "cell_type": "code",
   "execution_count": null,
   "metadata": {},
   "outputs": [],
   "source": []
  }
 ],
 "metadata": {
  "interpreter": {
   "hash": "aa2d47bc11f4184ec0f4ad036b942f7d7cdb077768e25a9953837c39fb45c11e"
  },
  "kernelspec": {
   "display_name": "Python 3.7.2 32-bit",
   "language": "python",
   "name": "python3"
  },
  "language_info": {
   "codemirror_mode": {
    "name": "ipython",
    "version": 3
   },
   "file_extension": ".py",
   "mimetype": "text/x-python",
   "name": "python",
   "nbconvert_exporter": "python",
   "pygments_lexer": "ipython3",
   "version": "3.7.2"
  },
  "orig_nbformat": 4
 },
 "nbformat": 4,
 "nbformat_minor": 2
}
