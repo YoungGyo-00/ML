{
 "cells": [
  {
   "cell_type": "markdown",
   "metadata": {},
   "source": [
    "## 3가지 Boosting 실습"
   ]
  },
  {
   "cell_type": "code",
   "execution_count": 1,
   "metadata": {},
   "outputs": [
    {
     "name": "stderr",
     "output_type": "stream",
     "text": [
      "C:\\ProgramData\\Anaconda3\\lib\\importlib\\_bootstrap.py:219: RuntimeWarning: numpy.ufunc size changed, may indicate binary incompatibility. Expected 192 from C header, got 216 from PyObject\n",
      "  return f(*args, **kwds)\n",
      "C:\\ProgramData\\Anaconda3\\lib\\importlib\\_bootstrap.py:219: RuntimeWarning: numpy.ufunc size changed, may indicate binary incompatibility. Expected 192 from C header, got 216 from PyObject\n",
      "  return f(*args, **kwds)\n"
     ]
    }
   ],
   "source": [
    "import pandas as pd\n",
    "import numpy as np\n",
    "from sklearn.model_selection import train_test_split"
   ]
  },
  {
   "cell_type": "code",
   "execution_count": 2,
   "metadata": {},
   "outputs": [
    {
     "data": {
      "text/html": [
       "<div>\n",
       "<style scoped>\n",
       "    .dataframe tbody tr th:only-of-type {\n",
       "        vertical-align: middle;\n",
       "    }\n",
       "\n",
       "    .dataframe tbody tr th {\n",
       "        vertical-align: top;\n",
       "    }\n",
       "\n",
       "    .dataframe thead th {\n",
       "        text-align: right;\n",
       "    }\n",
       "</style>\n",
       "<table border=\"1\" class=\"dataframe\">\n",
       "  <thead>\n",
       "    <tr style=\"text-align: right;\">\n",
       "      <th></th>\n",
       "      <th>id</th>\n",
       "      <th>feat_1</th>\n",
       "      <th>feat_2</th>\n",
       "      <th>feat_3</th>\n",
       "      <th>feat_4</th>\n",
       "      <th>feat_5</th>\n",
       "      <th>feat_6</th>\n",
       "      <th>feat_7</th>\n",
       "      <th>feat_8</th>\n",
       "      <th>feat_9</th>\n",
       "      <th>...</th>\n",
       "      <th>feat_85</th>\n",
       "      <th>feat_86</th>\n",
       "      <th>feat_87</th>\n",
       "      <th>feat_88</th>\n",
       "      <th>feat_89</th>\n",
       "      <th>feat_90</th>\n",
       "      <th>feat_91</th>\n",
       "      <th>feat_92</th>\n",
       "      <th>feat_93</th>\n",
       "      <th>target</th>\n",
       "    </tr>\n",
       "  </thead>\n",
       "  <tbody>\n",
       "    <tr>\n",
       "      <td>0</td>\n",
       "      <td>1</td>\n",
       "      <td>1</td>\n",
       "      <td>0</td>\n",
       "      <td>0</td>\n",
       "      <td>0</td>\n",
       "      <td>0</td>\n",
       "      <td>0</td>\n",
       "      <td>0</td>\n",
       "      <td>0</td>\n",
       "      <td>0</td>\n",
       "      <td>...</td>\n",
       "      <td>1</td>\n",
       "      <td>0</td>\n",
       "      <td>0</td>\n",
       "      <td>0</td>\n",
       "      <td>0</td>\n",
       "      <td>0</td>\n",
       "      <td>0</td>\n",
       "      <td>0</td>\n",
       "      <td>0</td>\n",
       "      <td>Class_1</td>\n",
       "    </tr>\n",
       "    <tr>\n",
       "      <td>1</td>\n",
       "      <td>2</td>\n",
       "      <td>0</td>\n",
       "      <td>0</td>\n",
       "      <td>0</td>\n",
       "      <td>0</td>\n",
       "      <td>0</td>\n",
       "      <td>0</td>\n",
       "      <td>0</td>\n",
       "      <td>1</td>\n",
       "      <td>0</td>\n",
       "      <td>...</td>\n",
       "      <td>0</td>\n",
       "      <td>0</td>\n",
       "      <td>0</td>\n",
       "      <td>0</td>\n",
       "      <td>0</td>\n",
       "      <td>0</td>\n",
       "      <td>0</td>\n",
       "      <td>0</td>\n",
       "      <td>0</td>\n",
       "      <td>Class_1</td>\n",
       "    </tr>\n",
       "    <tr>\n",
       "      <td>2</td>\n",
       "      <td>3</td>\n",
       "      <td>0</td>\n",
       "      <td>0</td>\n",
       "      <td>0</td>\n",
       "      <td>0</td>\n",
       "      <td>0</td>\n",
       "      <td>0</td>\n",
       "      <td>0</td>\n",
       "      <td>1</td>\n",
       "      <td>0</td>\n",
       "      <td>...</td>\n",
       "      <td>0</td>\n",
       "      <td>0</td>\n",
       "      <td>0</td>\n",
       "      <td>0</td>\n",
       "      <td>0</td>\n",
       "      <td>0</td>\n",
       "      <td>0</td>\n",
       "      <td>0</td>\n",
       "      <td>0</td>\n",
       "      <td>Class_1</td>\n",
       "    </tr>\n",
       "    <tr>\n",
       "      <td>3</td>\n",
       "      <td>4</td>\n",
       "      <td>1</td>\n",
       "      <td>0</td>\n",
       "      <td>0</td>\n",
       "      <td>1</td>\n",
       "      <td>6</td>\n",
       "      <td>1</td>\n",
       "      <td>5</td>\n",
       "      <td>0</td>\n",
       "      <td>0</td>\n",
       "      <td>...</td>\n",
       "      <td>0</td>\n",
       "      <td>1</td>\n",
       "      <td>2</td>\n",
       "      <td>0</td>\n",
       "      <td>0</td>\n",
       "      <td>0</td>\n",
       "      <td>0</td>\n",
       "      <td>0</td>\n",
       "      <td>0</td>\n",
       "      <td>Class_1</td>\n",
       "    </tr>\n",
       "    <tr>\n",
       "      <td>4</td>\n",
       "      <td>5</td>\n",
       "      <td>0</td>\n",
       "      <td>0</td>\n",
       "      <td>0</td>\n",
       "      <td>0</td>\n",
       "      <td>0</td>\n",
       "      <td>0</td>\n",
       "      <td>0</td>\n",
       "      <td>0</td>\n",
       "      <td>0</td>\n",
       "      <td>...</td>\n",
       "      <td>1</td>\n",
       "      <td>0</td>\n",
       "      <td>0</td>\n",
       "      <td>0</td>\n",
       "      <td>0</td>\n",
       "      <td>1</td>\n",
       "      <td>0</td>\n",
       "      <td>0</td>\n",
       "      <td>0</td>\n",
       "      <td>Class_1</td>\n",
       "    </tr>\n",
       "  </tbody>\n",
       "</table>\n",
       "<p>5 rows × 95 columns</p>\n",
       "</div>"
      ],
      "text/plain": [
       "   id  feat_1  feat_2  feat_3  feat_4  feat_5  feat_6  feat_7  feat_8  feat_9  \\\n",
       "0   1       1       0       0       0       0       0       0       0       0   \n",
       "1   2       0       0       0       0       0       0       0       1       0   \n",
       "2   3       0       0       0       0       0       0       0       1       0   \n",
       "3   4       1       0       0       1       6       1       5       0       0   \n",
       "4   5       0       0       0       0       0       0       0       0       0   \n",
       "\n",
       "   ...  feat_85  feat_86  feat_87  feat_88  feat_89  feat_90  feat_91  \\\n",
       "0  ...        1        0        0        0        0        0        0   \n",
       "1  ...        0        0        0        0        0        0        0   \n",
       "2  ...        0        0        0        0        0        0        0   \n",
       "3  ...        0        1        2        0        0        0        0   \n",
       "4  ...        1        0        0        0        0        1        0   \n",
       "\n",
       "   feat_92  feat_93   target  \n",
       "0        0        0  Class_1  \n",
       "1        0        0  Class_1  \n",
       "2        0        0  Class_1  \n",
       "3        0        0  Class_1  \n",
       "4        0        0  Class_1  \n",
       "\n",
       "[5 rows x 95 columns]"
      ]
     },
     "execution_count": 2,
     "metadata": {},
     "output_type": "execute_result"
    }
   ],
   "source": [
    "data = pd.read_csv('./data/otto_train.csv')\n",
    "data.head()"
   ]
  },
  {
   "cell_type": "code",
   "execution_count": 3,
   "metadata": {},
   "outputs": [],
   "source": [
    "data = data.drop(['id'], axis = 1) # id 제거"
   ]
  },
  {
   "cell_type": "code",
   "execution_count": 4,
   "metadata": {},
   "outputs": [],
   "source": [
    "mapping_dict = {\"Class_1\": 1,\n",
    "                \"Class_2\": 2,\n",
    "                \"Class_3\": 3,\n",
    "                \"Class_4\": 4,\n",
    "                \"Class_5\": 5,\n",
    "                \"Class_6\": 6,\n",
    "                \"Class_7\": 7,\n",
    "                \"Class_8\": 8,\n",
    "                \"Class_9\": 9}\n",
    "after_mapping_target = data['target'].apply(lambda x: mapping_dict[x])"
   ]
  },
  {
   "cell_type": "code",
   "execution_count": 5,
   "metadata": {},
   "outputs": [
    {
     "name": "stdout",
     "output_type": "stream",
     "text": [
      "(49502, 93) (12376, 93) (49502,) (12376,)\n"
     ]
    }
   ],
   "source": [
    "feature_columns = list(data.columns.difference(['target'])) # target을 제외한 모든 행\n",
    "X = data[feature_columns] # 설명변수\n",
    "y = after_mapping_target # 타겟변수\n",
    "train_x, test_x, train_y, test_y = train_test_split(X, y, test_size = 0.2, random_state = 42) # 학습데이터와 평가데이터의 비율을 8:2 로 분할| \n",
    "print(train_x.shape, test_x.shape, train_y.shape, test_y.shape) # 데이터 개수 확인"
   ]
  },
  {
   "cell_type": "markdown",
   "metadata": {},
   "source": [
    "## 1. XGBoost"
   ]
  },
  {
   "cell_type": "code",
   "execution_count": 10,
   "metadata": {},
   "outputs": [],
   "source": [
    "import xgboost as xgb\n",
    "import time\n",
    "from sklearn.metrics import accuracy_score"
   ]
  },
  {
   "cell_type": "code",
   "execution_count": 12,
   "metadata": {},
   "outputs": [
    {
     "name": "stdout",
     "output_type": "stream",
     "text": [
      "[03:56:53] WARNING: C:/Users/Administrator/workspace/xgboost-win64_release_1.5.1/src/learner.cc:576: \n",
      "Parameters: { \"n_estimators\" } might not be used.\n",
      "\n",
      "  This could be a false alarm, with some parameters getting used by language bindings but\n",
      "  then being mistakenly passed down to XGBoost core, or some parameter actually being used\n",
      "  but getting flagged wrongly here. Please open an issue if you find any such cases.\n",
      "\n",
      "\n",
      "[03:56:54] WARNING: C:/Users/Administrator/workspace/xgboost-win64_release_1.5.1/src/learner.cc:1115: Starting in XGBoost 1.3.0, the default evaluation metric used with the objective 'multi:softmax' was changed from 'merror' to 'mlogloss'. Explicitly set eval_metric if you'd like to restore the old behavior.\n",
      "Accuracy: 76.67 %\n",
      "Time: 9.20 seconds\n"
     ]
    }
   ],
   "source": [
    "start = time.time()\n",
    "xgb_dtrain = xgb.DMatrix(data=train_x, label=train_y) # xgb.DMatrix: 데이터를 xgboost 모델에 맞게 변환\n",
    "xgb_dtest = xgb.DMatrix(data=test_x) # 동일 효과\n",
    "xgb_params = {'max_depth': 10, # 트리 깊이\n",
    "              'learning_rate': 0.01, # Step Size\n",
    "              'n_estimators': 100, # 트리 생성 개수\n",
    "              'objective': 'multi:softmax', # 목적 함수\n",
    "              'num_class': len(set(train_y)) + 1}\n",
    "xgb_model = xgb.train(params=xgb_params, dtrain=xgb_dtrain) # 학습 진행\n",
    "xgb_model_predict = xgb_model.predict(xgb_dtest)\n",
    "print(\"Accuracy: %.2f\" % (accuracy_score(test_y, xgb_model_predict) * 100), \"%\")\n",
    "print(\"Time: %.2f\" % (time.time() - start), \"seconds\") # 코드 실행 시간 계산"
   ]
  },
  {
   "cell_type": "markdown",
   "metadata": {},
   "source": [
    "## 2. LightGBM"
   ]
  },
  {
   "cell_type": "code",
   "execution_count": 15,
   "metadata": {},
   "outputs": [],
   "source": [
    "import lightgbm as lgb"
   ]
  },
  {
   "cell_type": "code",
   "execution_count": 16,
   "metadata": {},
   "outputs": [
    {
     "name": "stderr",
     "output_type": "stream",
     "text": [
      "C:\\ProgramData\\Anaconda3\\lib\\site-packages\\lightgbm\\engine.py:177: UserWarning: Found `n_estimators` in params. Will use it instead of argument\n",
      "  _log_warning(f\"Found `{alias}` in params. Will use it instead of argument\")\n"
     ]
    },
    {
     "name": "stdout",
     "output_type": "stream",
     "text": [
      "[LightGBM] [Warning] Accuracy may be bad since you didn't explicitly set num_leaves OR 2^max_depth > num_leaves. (num_leaves=31).\n",
      "[LightGBM] [Warning] Accuracy may be bad since you didn't explicitly set num_leaves OR 2^max_depth > num_leaves. (num_leaves=31).\n",
      "[LightGBM] [Warning] Auto-choosing row-wise multi-threading, the overhead of testing was 0.030304 seconds.\n",
      "You can set `force_row_wise=true` to remove the overhead.\n",
      "And if memory is not enough, you can set `force_col_wise=true`.\n",
      "[LightGBM] [Info] Total Bins 3110\n",
      "[LightGBM] [Info] Number of data points in the train set: 49502, number of used features: 93\n",
      "[LightGBM] [Info] Start training from score -34.538776\n",
      "[LightGBM] [Info] Start training from score -3.476745\n",
      "[LightGBM] [Info] Start training from score -1.341381\n",
      "[LightGBM] [Info] Start training from score -2.039019\n",
      "[LightGBM] [Info] Start training from score -3.135151\n",
      "[LightGBM] [Info] Start training from score -3.125444\n",
      "[LightGBM] [Info] Start training from score -1.481556\n",
      "[LightGBM] [Info] Start training from score -3.074772\n",
      "[LightGBM] [Info] Start training from score -1.986562\n",
      "[LightGBM] [Info] Start training from score -2.533374\n",
      "Accuracy: 76.28 %\n",
      "Time: 4.06 seconds\n"
     ]
    }
   ],
   "source": [
    "start = time.time() # 시작 시간 지정\n",
    "lgb_dtrain = lgb.Dataset(data = train_x, label = train_y) # 학습 데이터를 LightGBM 모델에 맞게 변환\n",
    "lgb_param = {'max_depth': 10, # 트리 깊이\n",
    "             'learning_rate': 0.01, # Step Size\n",
    "             'n_estimators': 100, # Number of trees, 트리 생성 개수\n",
    "             'objective': 'multiclass', # 목적 함수\n",
    "             'num_class': len(set(train_y)) + 1} # 파라미터 추가, Label must be in [0, num_class) -> num_class보다 1 커야한다.\n",
    "lgb_model = lgb.train(params = lgb_param, train_set = lgb_dtrain)\n",
    "lgb_model_predict = np.argmax(lgb_model.predict(test_x), axis = 1) # 평가 데이터 예측, Softmax의 결과값 중 가장 큰 값의 Label로 예측\n",
    "print(\"Accuracy: %.2f\" % (accuracy_score(test_y, lgb_model_predict) * 100), \"%\")\n",
    "print(\"Time: %.2f\" % (time.time() - start), \"seconds\")"
   ]
  },
  {
   "cell_type": "markdown",
   "metadata": {},
   "source": [
    "## 3. Catboost"
   ]
  },
  {
   "cell_type": "code",
   "execution_count": 19,
   "metadata": {},
   "outputs": [],
   "source": [
    "import catboost as cb"
   ]
  },
  {
   "cell_type": "code",
   "execution_count": 21,
   "metadata": {},
   "outputs": [
    {
     "name": "stdout",
     "output_type": "stream",
     "text": [
      "0:\tlearn: 0.5907034\ttotal: 905ms\tremaining: 1m 29s\n",
      "1:\tlearn: 0.6356107\ttotal: 1.93s\tremaining: 1m 34s\n",
      "2:\tlearn: 0.6411256\ttotal: 2.82s\tremaining: 1m 31s\n",
      "3:\tlearn: 0.6480344\ttotal: 3.65s\tremaining: 1m 27s\n",
      "4:\tlearn: 0.6508222\ttotal: 4.48s\tremaining: 1m 25s\n",
      "5:\tlearn: 0.6499939\ttotal: 5.26s\tremaining: 1m 22s\n",
      "6:\tlearn: 0.6507818\ttotal: 6.01s\tremaining: 1m 19s\n",
      "7:\tlearn: 0.6548422\ttotal: 6.7s\tremaining: 1m 17s\n",
      "8:\tlearn: 0.6559533\ttotal: 7.44s\tremaining: 1m 15s\n",
      "9:\tlearn: 0.6560947\ttotal: 8.17s\tremaining: 1m 13s\n",
      "10:\tlearn: 0.6568421\ttotal: 8.94s\tremaining: 1m 12s\n",
      "11:\tlearn: 0.6588219\ttotal: 9.76s\tremaining: 1m 11s\n",
      "12:\tlearn: 0.6592259\ttotal: 10.8s\tremaining: 1m 12s\n",
      "13:\tlearn: 0.6611248\ttotal: 11.9s\tremaining: 1m 13s\n",
      "14:\tlearn: 0.6625591\ttotal: 12.7s\tremaining: 1m 12s\n",
      "15:\tlearn: 0.6631853\ttotal: 13.5s\tremaining: 1m 11s\n",
      "16:\tlearn: 0.6639328\ttotal: 14.3s\tremaining: 1m 9s\n",
      "17:\tlearn: 0.6668821\ttotal: 15.1s\tremaining: 1m 8s\n",
      "18:\tlearn: 0.6669630\ttotal: 15.9s\tremaining: 1m 7s\n",
      "19:\tlearn: 0.6675286\ttotal: 16.7s\tremaining: 1m 6s\n",
      "20:\tlearn: 0.6673266\ttotal: 17.4s\tremaining: 1m 5s\n",
      "21:\tlearn: 0.6677104\ttotal: 18.2s\tremaining: 1m 4s\n",
      "22:\tlearn: 0.6682558\ttotal: 19s\tremaining: 1m 3s\n",
      "23:\tlearn: 0.6683972\ttotal: 19.7s\tremaining: 1m 2s\n",
      "24:\tlearn: 0.6686599\ttotal: 20.6s\tremaining: 1m 1s\n",
      "25:\tlearn: 0.6681952\ttotal: 21.4s\tremaining: 1m\n",
      "26:\tlearn: 0.6684982\ttotal: 22.2s\tremaining: 1m\n",
      "27:\tlearn: 0.6692053\ttotal: 22.9s\tremaining: 58.9s\n",
      "28:\tlearn: 0.6696699\ttotal: 23.6s\tremaining: 57.7s\n",
      "29:\tlearn: 0.6699325\ttotal: 24.2s\tremaining: 56.5s\n",
      "30:\tlearn: 0.6705992\ttotal: 25s\tremaining: 55.6s\n",
      "31:\tlearn: 0.6709426\ttotal: 25.8s\tremaining: 54.8s\n",
      "32:\tlearn: 0.6708012\ttotal: 26.5s\tremaining: 53.9s\n",
      "33:\tlearn: 0.6709426\ttotal: 27.2s\tremaining: 52.9s\n",
      "34:\tlearn: 0.6707002\ttotal: 28s\tremaining: 52s\n",
      "35:\tlearn: 0.6715082\ttotal: 28.8s\tremaining: 51.2s\n",
      "36:\tlearn: 0.6705992\ttotal: 29.4s\tremaining: 50.1s\n",
      "37:\tlearn: 0.6725991\ttotal: 30.1s\tremaining: 49.2s\n",
      "38:\tlearn: 0.6729829\ttotal: 30.8s\tremaining: 48.2s\n",
      "39:\tlearn: 0.6725991\ttotal: 31.5s\tremaining: 47.2s\n",
      "40:\tlearn: 0.6734273\ttotal: 32.1s\tremaining: 46.3s\n",
      "41:\tlearn: 0.6738314\ttotal: 32.9s\tremaining: 45.4s\n",
      "42:\tlearn: 0.6741546\ttotal: 33.6s\tremaining: 44.5s\n",
      "43:\tlearn: 0.6739728\ttotal: 34.2s\tremaining: 43.6s\n",
      "44:\tlearn: 0.6741950\ttotal: 35s\tremaining: 42.7s\n",
      "45:\tlearn: 0.6750636\ttotal: 35.8s\tremaining: 42s\n",
      "46:\tlearn: 0.6758919\ttotal: 36.5s\tremaining: 41.1s\n",
      "47:\tlearn: 0.6757707\ttotal: 37.2s\tremaining: 40.3s\n",
      "48:\tlearn: 0.6762151\ttotal: 37.8s\tremaining: 39.4s\n",
      "49:\tlearn: 0.6774474\ttotal: 38.5s\tremaining: 38.5s\n",
      "50:\tlearn: 0.6777100\ttotal: 39.2s\tremaining: 37.6s\n",
      "51:\tlearn: 0.6786594\ttotal: 39.9s\tremaining: 36.8s\n",
      "52:\tlearn: 0.6789827\ttotal: 40.5s\tremaining: 36s\n",
      "53:\tlearn: 0.6804372\ttotal: 41.2s\tremaining: 35.1s\n",
      "54:\tlearn: 0.6804372\ttotal: 41.9s\tremaining: 34.3s\n",
      "55:\tlearn: 0.6809220\ttotal: 42.7s\tremaining: 33.5s\n",
      "56:\tlearn: 0.6812250\ttotal: 43.4s\tremaining: 32.7s\n",
      "57:\tlearn: 0.6813058\ttotal: 44.1s\tremaining: 31.9s\n",
      "58:\tlearn: 0.6811846\ttotal: 44.8s\tremaining: 31.1s\n",
      "59:\tlearn: 0.6813260\ttotal: 45.4s\tremaining: 30.3s\n",
      "60:\tlearn: 0.6816694\ttotal: 46.1s\tremaining: 29.5s\n",
      "61:\tlearn: 0.6823159\ttotal: 46.8s\tremaining: 28.7s\n",
      "62:\tlearn: 0.6832653\ttotal: 47.5s\tremaining: 27.9s\n",
      "63:\tlearn: 0.6840734\ttotal: 48.2s\tremaining: 27.1s\n",
      "64:\tlearn: 0.6840734\ttotal: 48.9s\tremaining: 26.3s\n",
      "65:\tlearn: 0.6846592\ttotal: 49.6s\tremaining: 25.5s\n",
      "66:\tlearn: 0.6843360\ttotal: 50.2s\tremaining: 24.7s\n",
      "67:\tlearn: 0.6846390\ttotal: 50.9s\tremaining: 24s\n",
      "68:\tlearn: 0.6854269\ttotal: 51.6s\tremaining: 23.2s\n",
      "69:\tlearn: 0.6858309\ttotal: 52.3s\tremaining: 22.4s\n",
      "70:\tlearn: 0.6858309\ttotal: 53s\tremaining: 21.7s\n",
      "71:\tlearn: 0.6865783\ttotal: 53.7s\tremaining: 20.9s\n",
      "72:\tlearn: 0.6864167\ttotal: 54.4s\tremaining: 20.1s\n",
      "73:\tlearn: 0.6868611\ttotal: 55.1s\tremaining: 19.4s\n",
      "74:\tlearn: 0.6869217\ttotal: 55.8s\tremaining: 18.6s\n",
      "75:\tlearn: 0.6870429\ttotal: 56.5s\tremaining: 17.9s\n",
      "76:\tlearn: 0.6875278\ttotal: 57.2s\tremaining: 17.1s\n",
      "77:\tlearn: 0.6881136\ttotal: 57.9s\tremaining: 16.3s\n",
      "78:\tlearn: 0.6883762\ttotal: 58.7s\tremaining: 15.6s\n",
      "79:\tlearn: 0.6888207\ttotal: 59.4s\tremaining: 14.8s\n",
      "80:\tlearn: 0.6892449\ttotal: 1m\tremaining: 14.1s\n",
      "81:\tlearn: 0.6898509\ttotal: 1m\tremaining: 13.3s\n",
      "82:\tlearn: 0.6897095\ttotal: 1m 1s\tremaining: 12.6s\n",
      "83:\tlearn: 0.6902549\ttotal: 1m 2s\tremaining: 11.8s\n",
      "84:\tlearn: 0.6909822\ttotal: 1m 2s\tremaining: 11.1s\n",
      "85:\tlearn: 0.6910832\ttotal: 1m 3s\tremaining: 10.4s\n",
      "86:\tlearn: 0.6914468\ttotal: 1m 4s\tremaining: 9.63s\n",
      "87:\tlearn: 0.6916084\ttotal: 1m 5s\tremaining: 8.88s\n",
      "88:\tlearn: 0.6919922\ttotal: 1m 5s\tremaining: 8.14s\n",
      "89:\tlearn: 0.6925579\ttotal: 1m 6s\tremaining: 7.4s\n",
      "90:\tlearn: 0.6928407\ttotal: 1m 7s\tremaining: 6.66s\n",
      "91:\tlearn: 0.6930427\ttotal: 1m 8s\tremaining: 5.92s\n",
      "92:\tlearn: 0.6935073\ttotal: 1m 8s\tremaining: 5.18s\n",
      "93:\tlearn: 0.6940932\ttotal: 1m 9s\tremaining: 4.44s\n",
      "94:\tlearn: 0.6944972\ttotal: 1m 10s\tremaining: 3.7s\n",
      "95:\tlearn: 0.6948810\ttotal: 1m 11s\tremaining: 2.96s\n",
      "96:\tlearn: 0.6951840\ttotal: 1m 11s\tremaining: 2.22s\n",
      "97:\tlearn: 0.6954264\ttotal: 1m 12s\tremaining: 1.48s\n",
      "98:\tlearn: 0.6955881\ttotal: 1m 13s\tremaining: 742ms\n",
      "99:\tlearn: 0.6956285\ttotal: 1m 14s\tremaining: 0us\n",
      "Accuracy: 69.64 %\n",
      "Time: 74.56 seconds\n"
     ]
    }
   ],
   "source": [
    "start = time.time()\n",
    "cb_dtrain = cb.Pool(data=train_x, label=train_y)\n",
    "cb_params = {'max_depth': 10,\n",
    "             'learning_rate': 0.01,\n",
    "             'n_estimators': 100,\n",
    "             'eval_metric': 'Accuracy', # 평가 척도\n",
    "             'loss_function': 'MultiClass'} # 손실 함수, 목적 함수\n",
    "cb_model = cb.train(pool=cb_dtrain, params=cb_params)\n",
    "cb_model_predict = np.argmax(cb_model.predict(test_x), axis=1) + 1\n",
    "print(\"Accuracy: %.2f\" % (accuracy_score(test_y, cb_model_predict) * 100), \"%\")\n",
    "print(\"Time: %.2f\" % (time.time() - start), \"seconds\")"
   ]
  },
  {
   "cell_type": "markdown",
   "metadata": {},
   "source": [
    "## Regression 목적 함수 사용"
   ]
  },
  {
   "cell_type": "code",
   "execution_count": 23,
   "metadata": {},
   "outputs": [],
   "source": [
    "data = pd.read_csv(\"./data/kc_house_data.csv\")"
   ]
  },
  {
   "cell_type": "code",
   "execution_count": 24,
   "metadata": {},
   "outputs": [],
   "source": [
    "data = data.drop(['id', 'date', 'zipcode', 'lat', 'long'], axis = 1)"
   ]
  },
  {
   "cell_type": "code",
   "execution_count": 25,
   "metadata": {},
   "outputs": [],
   "source": [
    "feature_columns = list(data.columns.difference(['price'])) # Price를 제외한 모든 행\n",
    "X = data[feature_columns]\n",
    "y = data['price']\n",
    "train_x, test_x, train_y, test_y = train_test_split(X, y, test_size = 0.3, random_state = 42)"
   ]
  },
  {
   "cell_type": "code",
   "execution_count": 35,
   "metadata": {},
   "outputs": [
    {
     "name": "stdout",
     "output_type": "stream",
     "text": [
      "[LightGBM] [Warning] Unknown parameter: n_estimator\n",
      "[LightGBM] [Warning] Accuracy may be bad since you didn't explicitly set num_leaves OR 2^max_depth > num_leaves. (num_leaves=31).\n",
      "[LightGBM] [Warning] Unknown parameter: n_estimator\n",
      "[LightGBM] [Warning] Accuracy may be bad since you didn't explicitly set num_leaves OR 2^max_depth > num_leaves. (num_leaves=31).\n",
      "[LightGBM] [Warning] Auto-choosing col-wise multi-threading, the overhead of testing was 0.000517 seconds.\n",
      "You can set `force_col_wise=true` to remove the overhead.\n",
      "[LightGBM] [Info] Total Bins 237\n",
      "[LightGBM] [Info] Number of data points in the train set: 15129, number of used features: 8\n",
      "[LightGBM] [Info] Start training from score 537729.263666\n"
     ]
    }
   ],
   "source": [
    "start = time.time()\n",
    "lgb_dtrain = lgb.Dataset(data=train_x, label=train_y)\n",
    "lgb_params = {'max_depth': 10,\n",
    "              'learning_rate': 0.01,\n",
    "              'n_estimator' : 100,\n",
    "              'objective' : 'regression'} # 목적 함수 regression\n",
    "lgb_model = lgb.train(params=lgb_params, train_set=lgb_dtrain)"
   ]
  },
  {
   "cell_type": "code",
   "execution_count": 39,
   "metadata": {},
   "outputs": [],
   "source": [
    "from math import sqrt\n",
    "from sklearn.metrics import mean_squared_error # RMSE\n",
    "import random"
   ]
  },
  {
   "cell_type": "code",
   "execution_count": 40,
   "metadata": {},
   "outputs": [
    {
     "data": {
      "text/plain": [
       "249111.2021710895"
      ]
     },
     "execution_count": 40,
     "metadata": {},
     "output_type": "execute_result"
    }
   ],
   "source": [
    "sqrt(mean_squared_error(lgb_model.predict(test_x), test_y))"
   ]
  },
  {
   "cell_type": "code",
   "execution_count": null,
   "metadata": {},
   "outputs": [],
   "source": []
  }
 ],
 "metadata": {
  "interpreter": {
   "hash": "b3ba2566441a7c06988d0923437866b63cedc61552a5af99d1f4fb67d367b25f"
  },
  "kernelspec": {
   "display_name": "Python 3.7.4 64-bit ('base': conda)",
   "language": "python",
   "name": "python3"
  },
  "language_info": {
   "codemirror_mode": {
    "name": "ipython",
    "version": 3
   },
   "file_extension": ".py",
   "mimetype": "text/x-python",
   "name": "python",
   "nbconvert_exporter": "python",
   "pygments_lexer": "ipython3",
   "version": "3.7.4"
  },
  "orig_nbformat": 4
 },
 "nbformat": 4,
 "nbformat_minor": 2
}
