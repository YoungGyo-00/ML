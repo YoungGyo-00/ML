{
 "cells": [
  {
   "cell_type": "markdown",
   "metadata": {},
   "source": [
    "# 실행 가능성 확인하기\n",
    "### tensorflow 설치 시\n",
    "- python 3.7 이하 버전 사용\n",
    "- numpy 1.17 이하\n",
    "- 64bit 환경에서 설치"
   ]
  },
  {
   "cell_type": "markdown",
   "metadata": {},
   "source": [
    "### cv2 설치 시(PEP 오류 발생)\n",
    "* ERROR: Could not build wheels for opencv-python which use PEP 517 and cannot be installed directly\n",
    "* pip install --upgrade pip setuptools wheel (해결)"
   ]
  },
  {
   "cell_type": "code",
   "execution_count": 29,
   "metadata": {},
   "outputs": [],
   "source": [
    "import cv2\n",
    "import os\n",
    "import glob\n",
    "import tensorflow as tf\n",
    "from tensorflow.keras.layers import Conv2D, MaxPool2D, Flatten, Dense\n",
    "from tensorflow.keras.models import Sequential"
   ]
  },
  {
   "cell_type": "code",
   "execution_count": 6,
   "metadata": {},
   "outputs": [],
   "source": [
    "EPOCHS = 10\n",
    "DATA_PATH = 'data/2/'\n",
    "DATA_OK_PATTERN = DATA_PATH + 'OK/*.png'\n",
    "DATA_FAIL_PATTERN = DATA_PATH + 'FAIL/*.png'\n",
    "\n",
    "RESULT_SAVE_PATH = 'results/'"
   ]
  },
  {
   "cell_type": "markdown",
   "metadata": {},
   "source": [
    "### Sequential 모델\n",
    "각 레이어에 정확히 하나의 입력 텐서와 하나의 출력 텐서가 있는 일반 레이어 스택"
   ]
  },
  {
   "cell_type": "code",
   "execution_count": 4,
   "metadata": {},
   "outputs": [],
   "source": [
    "def Model():\n",
    "    return Sequential([Conv2D(32, (3, 3), activation='relu', input_shape=(256, 256, 1)),\n",
    "                      MaxPool2D(),\n",
    "                      Conv2D(64, (3, 3), activation='relu'),\n",
    "                      MaxPool2D(),\n",
    "                      Conv2D(128, (3, 3), activation='relu'),\n",
    "                      MaxPool2D(),\n",
    "                      Conv2D(256, (3, 3), activation='relu'),\n",
    "                      MaxPool2D(),\n",
    "                      Flatten(),\n",
    "                      Dense(1, activation='sigmoid')])"
   ]
  },
  {
   "cell_type": "markdown",
   "metadata": {},
   "source": [
    "## 데이터셋 불러오기\n",
    "- OK_PATTERN, FAIL_PATTERN 별로 구분\n",
    "- preprocess 함수 -> 이미지 타입 변환"
   ]
  },
  {
   "cell_type": "code",
   "execution_count": 5,
   "metadata": {},
   "outputs": [],
   "source": [
    "def preprocess(file_name):\n",
    "    img = tf.io.read_file(file_name)\n",
    "    img = tf.image.decode_png(img, channels=1)\n",
    "    return tf.image.convert_image_dtype(img, tf.float32)"
   ]
  },
  {
   "cell_type": "code",
   "execution_count": 21,
   "metadata": {},
   "outputs": [],
   "source": [
    "ok_list = glob.glob(DATA_OK_PATTERN)\n",
    "ds_ok = tf.data.Dataset.list_files(ok_list)\n",
    "ds_ok_label = tf.data.Dataset.from_tensor_slices([0 for _ in range(len(ok_list))])\n",
    "\n",
    "ds_ok = ds_ok.map(preprocess)\n",
    "ds_ok = tf.data.Dataset.zip((ds_ok, ds_ok_label))\n",
    "\n",
    "fail_list = glob.glob(DATA_FAIL_PATTERN)\n",
    "ds_fail = tf.data.Dataset.list_files(fail_list)\n",
    "ds_fail_label = tf.data.Dataset.from_tensor_slices([1 for _ in range(len(fail_list))])\n",
    "\n",
    "ds_fail = ds_fail.map(preprocess)\n",
    "ds_fail = tf.data.Dataset.zip((ds_fail, ds_fail_label))\n",
    "\n",
    "ds = tf.data.Dataset.concatenate(ds_ok, ds_fail)"
   ]
  },
  {
   "cell_type": "markdown",
   "metadata": {},
   "source": [
    "## Train, Valid 데이터셋 나누기"
   ]
  },
  {
   "cell_type": "code",
   "execution_count": 25,
   "metadata": {},
   "outputs": [],
   "source": [
    "ds_size = len(ok_list) + len(fail_list)\n",
    "train_size = int(ds_size * 0.7)\n",
    "\n",
    "ds = ds.shuffle(ds_size)\n",
    "ds_train = ds.take(train_size).shuffle(1024, reshuffle_each_iteration=True).batch(32)\n",
    "ds_valid = ds.skip(train_size).batch(32)"
   ]
  },
  {
   "cell_type": "code",
   "execution_count": 26,
   "metadata": {},
   "outputs": [],
   "source": [
    "model = Model()\n",
    "model.compile(optimizer='adam',\n",
    "              loss='binary_crossentropy',\n",
    "              metrics=['accuracy'])"
   ]
  },
  {
   "cell_type": "code",
   "execution_count": 27,
   "metadata": {},
   "outputs": [
    {
     "name": "stdout",
     "output_type": "stream",
     "text": [
      "Epoch 1/10\n",
      "22/22 [==============================] - 60s 3s/step - loss: 0.4388 - accuracy: 0.8407 - val_loss: 0.3807 - val_accuracy: 0.8900\n",
      "Epoch 2/10\n",
      "22/22 [==============================] - 61s 3s/step - loss: 0.3940 - accuracy: 0.8835 - val_loss: 0.3423 - val_accuracy: 0.8969\n",
      "Epoch 3/10\n",
      "22/22 [==============================] - 54s 2s/step - loss: 0.3674 - accuracy: 0.8835 - val_loss: 0.3599 - val_accuracy: 0.8797\n",
      "Epoch 4/10\n",
      "22/22 [==============================] - 50s 2s/step - loss: 0.3760 - accuracy: 0.8761 - val_loss: 0.3987 - val_accuracy: 0.8557\n",
      "Epoch 5/10\n",
      "22/22 [==============================] - 46s 2s/step - loss: 0.3516 - accuracy: 0.8805 - val_loss: 0.3325 - val_accuracy: 0.8969\n",
      "Epoch 6/10\n",
      "22/22 [==============================] - 45s 2s/step - loss: 0.3756 - accuracy: 0.8761 - val_loss: 0.4346 - val_accuracy: 0.8694\n",
      "Epoch 7/10\n",
      "22/22 [==============================] - 50s 2s/step - loss: 0.3798 - accuracy: 0.8761 - val_loss: 0.3558 - val_accuracy: 0.8866\n",
      "Epoch 8/10\n",
      "22/22 [==============================] - 43s 2s/step - loss: 0.3755 - accuracy: 0.8791 - val_loss: 0.3867 - val_accuracy: 0.8660\n",
      "Epoch 9/10\n",
      "22/22 [==============================] - 43s 2s/step - loss: 0.3627 - accuracy: 0.8776 - val_loss: 0.3660 - val_accuracy: 0.8729\n",
      "Epoch 10/10\n",
      "22/22 [==============================] - 43s 2s/step - loss: 0.3676 - accuracy: 0.8717 - val_loss: 0.3891 - val_accuracy: 0.8660\n"
     ]
    },
    {
     "data": {
      "text/plain": [
       "<keras.callbacks.History at 0x19d2dc26788>"
      ]
     },
     "execution_count": 27,
     "metadata": {},
     "output_type": "execute_result"
    }
   ],
   "source": [
    "model.fit(ds_train, validation_data=ds_valid, epochs=EPOCHS)"
   ]
  },
  {
   "cell_type": "code",
   "execution_count": 31,
   "metadata": {},
   "outputs": [],
   "source": [
    "def mkdir(path):\n",
    "    if os.path.exists(path) is False:\n",
    "        os.mkdir(path)\n",
    "\n",
    "mkdir(RESULT_SAVE_PATH)\n",
    "mkdir(RESULT_SAVE_PATH + '/TP')\n",
    "mkdir(RESULT_SAVE_PATH + '/TN')\n",
    "mkdir(RESULT_SAVE_PATH + '/FP')\n",
    "mkdir(RESULT_SAVE_PATH + '/FN')\n",
    "\n",
    "index = 0\n",
    "for imgs, labels in ds_valid:\n",
    "    preds = model.predict(imgs)\n",
    "    for idx in range(imgs.shape[0]):\n",
    "        gt = labels[idx].numpy()\n",
    "        y = preds[idx]\n",
    "\n",
    "        if gt == 1 and y > 0.5:\n",
    "            path = RESULT_SAVE_PATH + '/TP'\n",
    "        elif gt == 1 and y <= 0.5:\n",
    "            path = RESULT_SAVE_PATH + '/FN'\n",
    "        elif gt == 0 and y > 0.5:\n",
    "            path = RESULT_SAVE_PATH + '/FP'\n",
    "        else:\n",
    "            path = RESULT_SAVE_PATH + '/TN'\n",
    "        \n",
    "        cv2.imwrite(path + '/%.4f_%04d.png' % (y, index), imgs[idx].numpy() * 255)\n",
    "        index += 1"
   ]
  },
  {
   "cell_type": "code",
   "execution_count": null,
   "metadata": {},
   "outputs": [],
   "source": []
  }
 ],
 "metadata": {
  "interpreter": {
   "hash": "aa2d47bc11f4184ec0f4ad036b942f7d7cdb077768e25a9953837c39fb45c11e"
  },
  "kernelspec": {
   "display_name": "Python 3.7.2 32-bit",
   "language": "python",
   "name": "python3"
  },
  "language_info": {
   "codemirror_mode": {
    "name": "ipython",
    "version": 3
   },
   "file_extension": ".py",
   "mimetype": "text/x-python",
   "name": "python",
   "nbconvert_exporter": "python",
   "pygments_lexer": "ipython3",
   "version": "3.7.4"
  },
  "orig_nbformat": 4
 },
 "nbformat": 4,
 "nbformat_minor": 2
}
